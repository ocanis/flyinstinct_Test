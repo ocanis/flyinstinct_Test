{
 "cells": [
  {
   "cell_type": "code",
   "execution_count": 5,
   "metadata": {
    "id": "Y1HZehWQx2ZO"
   },
   "outputs": [],
   "source": [
    "import time\n",
    "import os\n",
    "import sys\n",
    "sys.setrecursionlimit(10000)"
   ]
  },
  {
   "cell_type": "code",
   "execution_count": 6,
   "metadata": {
    "id": "w90GTY1mx7qY"
   },
   "outputs": [],
   "source": [
    "import math\n",
    "def f(N):\n",
    " #Func without multiprocessing \n",
    "    if N<2:\n",
    "        return 1\n",
    "    if N<4:\n",
    "        return -1*N*(N-1)\n",
    "    if N%2==0:\n",
    "        return math.floor(N*(N-1)/(N-2))+f(N-3)\n",
    "    if N%2!=0:\n",
    "        return N-(math.floor((N-1)*(N-2)/(N-3)))+(N-4)+f(N-5)"
   ]
  },
  {
   "cell_type": "code",
   "execution_count": 11,
   "metadata": {
    "colab": {
     "base_uri": "https://localhost:8080/"
    },
    "id": "4LOpMgQiyF4Q",
    "outputId": "390a707a-a5da-47ce-c91c-393622f88d77"
   },
   "outputs": [
    {
     "name": "stdout",
     "output_type": "stream",
     "text": [
      "Wall time: 0 ns\n"
     ]
    },
    {
     "data": {
      "text/plain": [
       "12"
      ]
     },
     "execution_count": 11,
     "metadata": {},
     "output_type": "execute_result"
    }
   ],
   "source": [
    "%%time\n",
    "f(10)"
   ]
  },
  {
   "cell_type": "code",
   "execution_count": 10,
   "metadata": {
    "id": "rZev00Xx4W6z"
   },
   "outputs": [],
   "source": [
    "number = list(range(1,10000))\n",
    "F_res = list(f(i) for i in number)\n",
    "\n",
    "import pandas as pd\n",
    "data = pd.DataFrame(list(zip(number, F_res)), columns=[\"Num\", \"F(N)\"])\n",
    "data.to_csv(\"f_data\", index=False)"
   ]
  },
  {
   "cell_type": "code",
   "execution_count": 12,
   "metadata": {
    "id": "5oK9EtUC469M"
   },
   "outputs": [],
   "source": []
  },
  {
   "cell_type": "code",
   "execution_count": 13,
   "metadata": {
    "id": "cDW7RdnF5mFU"
   },
   "outputs": [],
   "source": []
  },
  {
   "cell_type": "code",
   "execution_count": 14,
   "metadata": {
    "id": "AmP1-HWG6oSY"
   },
   "outputs": [],
   "source": []
  }
 ],
 "metadata": {
  "colab": {
   "collapsed_sections": [],
   "name": "functionF.ipynb",
   "provenance": []
  },
  "kernelspec": {
   "display_name": "Python 3",
   "language": "python",
   "name": "python3"
  },
  "language_info": {
   "codemirror_mode": {
    "name": "ipython",
    "version": 3
   },
   "file_extension": ".py",
   "mimetype": "text/x-python",
   "name": "python",
   "nbconvert_exporter": "python",
   "pygments_lexer": "ipython3",
   "version": "3.6.6"
  }
 },
 "nbformat": 4,
 "nbformat_minor": 1
}
