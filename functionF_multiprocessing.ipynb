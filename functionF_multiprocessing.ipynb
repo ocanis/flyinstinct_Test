{
 "cells": [
  {
   "cell_type": "code",
   "execution_count": 61,
   "metadata": {
    "id": "DBjVmNIJyc0z"
   },
   "outputs": [],
   "source": [
    "import time\n",
    "import math\n",
    "import os\n",
    "import sys\n",
    "sys.setrecursionlimit(10000)"
   ]
  },
  {
   "cell_type": "code",
   "execution_count": 62,
   "metadata": {
    "id": "a1a8zxRby5fR"
   },
   "outputs": [],
   "source": [
    "import threading\n",
    "import concurrent.futures"
   ]
  },
  {
   "cell_type": "code",
   "execution_count": 63,
   "metadata": {},
   "outputs": [],
   "source": [
    "def f_multipro(N):\n",
    "      if N<2:\n",
    "          return 1\n",
    "      if N<4:\n",
    "          return -1*N*(N-1)\n",
    "      if N%2==0:\n",
    "          return math.floor(N*(N-1)/(N-2))\n",
    "      if N%2!=0:\n",
    "          return N-(math.floor((N-1)*(N-2)/(N-3)))+(N-4)"
   ]
  },
  {
   "cell_type": "code",
   "execution_count": 64,
   "metadata": {
    "id": "0XWutoCCz-n9"
   },
   "outputs": [],
   "source": [
    "def Fmultipro(N):\n",
    "#Func with multiprocessing \n",
    "  inputs=[]\n",
    "  while N>=0:\n",
    "      inputs.append(N)\n",
    "      if N%2==0:\n",
    "          N=N-3\n",
    "          continue\n",
    "      if N%2!=0:\n",
    "          N=N-5\n",
    "          continue\n",
    "      if N==0:\n",
    "          inputs.append(1)\n",
    "  with concurrent.futures.ThreadPoolExecutor(max_workers=1) as executor:\n",
    "          r=executor.map(f_multipro, inputs)\n",
    "  return sum(r)"
   ]
  },
  {
   "cell_type": "code",
   "execution_count": 65,
   "metadata": {
    "colab": {
     "base_uri": "https://localhost:8080/"
    },
    "id": "hOl9-Tb70lf_",
    "outputId": "2ffde9c2-cc4a-4f94-ebc9-df2385867fb7"
   },
   "outputs": [
    {
     "name": "stdout",
     "output_type": "stream",
     "text": [
      "Wall time: 81.9 ms\n"
     ]
    },
    {
     "data": {
      "text/plain": [
       "11599338"
      ]
     },
     "execution_count": 65,
     "metadata": {},
     "output_type": "execute_result"
    }
   ],
   "source": [
    "%%time\n",
    "Fmultipro(9633)"
   ]
  },
  {
   "cell_type": "code",
   "execution_count": 60,
   "metadata": {
    "colab": {
     "base_uri": "https://localhost:8080/",
     "height": 382
    },
    "id": "HCehkG5z1qDt",
    "outputId": "f1780fef-15b1-4c54-954b-bb4f29e71d34"
   },
   "outputs": [
    {
     "name": "stdout",
     "output_type": "stream",
     "text": [
      "Wall time: 8min 54s\n"
     ]
    }
   ],
   "source": []
  },
  {
   "cell_type": "code",
   "execution_count": null,
   "metadata": {},
   "outputs": [],
   "source": []
  }
 ],
 "metadata": {
  "colab": {
   "name": "functionF_multiprocessing.ipynb",
   "provenance": []
  },
  "kernelspec": {
   "display_name": "Python 3",
   "language": "python",
   "name": "python3"
  },
  "language_info": {
   "codemirror_mode": {
    "name": "ipython",
    "version": 3
   },
   "file_extension": ".py",
   "mimetype": "text/x-python",
   "name": "python",
   "nbconvert_exporter": "python",
   "pygments_lexer": "ipython3",
   "version": "3.6.6"
  }
 },
 "nbformat": 4,
 "nbformat_minor": 1
}
